{
 "cells": [
  {
   "cell_type": "code",
   "execution_count": 53,
   "metadata": {},
   "outputs": [],
   "source": [
    "class Yacimiento():\n",
    "    minerales = True\n",
    "    explotando = False\n",
    "    \n",
    "mina_a = Yacimiento()"
   ]
  },
  {
   "cell_type": "code",
   "execution_count": 54,
   "metadata": {},
   "outputs": [
    {
     "data": {
      "text/plain": [
       "True"
      ]
     },
     "execution_count": 54,
     "metadata": {},
     "output_type": "execute_result"
    }
   ],
   "source": [
    "mina_a.minerales"
   ]
  },
  {
   "cell_type": "code",
   "execution_count": 55,
   "metadata": {},
   "outputs": [
    {
     "data": {
      "text/plain": [
       "False"
      ]
     },
     "execution_count": 55,
     "metadata": {},
     "output_type": "execute_result"
    }
   ],
   "source": [
    "mina_a.explotando"
   ]
  },
  {
   "cell_type": "code",
   "execution_count": 56,
   "metadata": {},
   "outputs": [],
   "source": [
    "class Yacimiento():\n",
    "    minerales = True\n",
    "    explotando = False\n",
    "    \n",
    "    def __init__(self, nombre, tipo, pais, producto):\n",
    "        \n",
    "        self.nombre = nombre\n",
    "        self.tipo = tipo\n",
    "        self.pais = pais\n",
    "        self.producto = producto\n",
    "        print(\"La mina {} es de tipo {}, esta ubicada en {} y explota {}.\".format(nombre, tipo, pais, producto))\n",
    "    \n"
   ]
  },
  {
   "cell_type": "code",
   "execution_count": 57,
   "metadata": {},
   "outputs": [
    {
     "name": "stdout",
     "output_type": "stream",
     "text": [
      "La mina Chuquicamata es de tipo porfido, esta ubicada en Chile y explota Cobre.\n"
     ]
    }
   ],
   "source": [
    "mina_a = Yacimiento('Chuquicamata', 'porfido', 'Chile', 'Cobre')"
   ]
  },
  {
   "cell_type": "code",
   "execution_count": 58,
   "metadata": {},
   "outputs": [
    {
     "data": {
      "text/plain": [
       "'Cobre'"
      ]
     },
     "execution_count": 58,
     "metadata": {},
     "output_type": "execute_result"
    }
   ],
   "source": [
    "mina_a.producto"
   ]
  },
  {
   "cell_type": "code",
   "execution_count": 59,
   "metadata": {},
   "outputs": [
    {
     "ename": "TypeError",
     "evalue": "__init__() missing 4 required positional arguments: 'nombre', 'tipo', 'pais', and 'producto'",
     "output_type": "error",
     "traceback": [
      "\u001b[1;31m---------------------------------------------------------------------------\u001b[0m",
      "\u001b[1;31mTypeError\u001b[0m                                 Traceback (most recent call last)",
      "\u001b[1;32m<ipython-input-59-59b81e97689c>\u001b[0m in \u001b[0;36m<module>\u001b[1;34m()\u001b[0m\n\u001b[1;32m----> 1\u001b[1;33m \u001b[0mmina_b\u001b[0m \u001b[1;33m=\u001b[0m \u001b[0mYacimiento\u001b[0m\u001b[1;33m(\u001b[0m\u001b[1;33m)\u001b[0m\u001b[1;33m\u001b[0m\u001b[0m\n\u001b[0m",
      "\u001b[1;31mTypeError\u001b[0m: __init__() missing 4 required positional arguments: 'nombre', 'tipo', 'pais', and 'producto'"
     ]
    }
   ],
   "source": [
    "mina_b = Yacimiento()"
   ]
  },
  {
   "cell_type": "code",
   "execution_count": 60,
   "metadata": {},
   "outputs": [],
   "source": [
    "class Yacimiento():\n",
    "    minerales = True\n",
    "    explotando = False\n",
    "    \n",
    "    def __init__(self, nombre=None, tipo=None, pais=None, producto=None):\n",
    "        \n",
    "        self.nombre = nombre\n",
    "        self.tipo = tipo\n",
    "        self.pais = pais\n",
    "        self.producto = producto\n",
    "        \n",
    "        if nombre is not None and tipo is not None and pais is not None and producto is not None:\n",
    "            print(\"La mina {} es de tipo {}, esta ubicada en {} y explota {}.\".format(nombre, tipo, pais, producto))\n",
    "        else:\n",
    "            print(\"A la mina le faltan atributos por ingresar.\")"
   ]
  },
  {
   "cell_type": "code",
   "execution_count": 61,
   "metadata": {},
   "outputs": [
    {
     "name": "stdout",
     "output_type": "stream",
     "text": [
      "A la mina le faltan atributos por ingresar.\n"
     ]
    }
   ],
   "source": [
    "mina_b = Yacimiento()"
   ]
  },
  {
   "cell_type": "code",
   "execution_count": 62,
   "metadata": {},
   "outputs": [
    {
     "name": "stdout",
     "output_type": "stream",
     "text": [
      "La mina La Escondida es de tipo Porfido, esta ubicada en Chile y explota Cobre.\n"
     ]
    }
   ],
   "source": [
    "mina_b = Yacimiento(\"La Escondida\", \"Porfido\", \"Chile\", \"Cobre\")"
   ]
  },
  {
   "cell_type": "markdown",
   "metadata": {},
   "source": [
    "**Método:**"
   ]
  },
  {
   "cell_type": "code",
   "execution_count": 63,
   "metadata": {},
   "outputs": [],
   "source": [
    "class Yacimiento():\n",
    "    minerales = True\n",
    "    explotando = False\n",
    "    \n",
    "    def __init__(self, nombre=None, tipo=None, pais=None, producto=None):\n",
    "        \n",
    "        self.nombre = nombre\n",
    "        self.tipo = tipo\n",
    "        self.pais = pais\n",
    "        self.producto = producto\n",
    "        \n",
    "        if nombre is not None and tipo is not None and pais is not None and producto is not None:\n",
    "            print(\"La mina {} es de tipo {}, esta ubicada en {} y explota {}.\".format(nombre, tipo, pais, producto))\n",
    "        else:\n",
    "            print(\"A la mina le faltan atributos por ingresar.\")\n",
    "            \n",
    "    def minar(self):\n",
    "        self.explotando = True"
   ]
  },
  {
   "cell_type": "code",
   "execution_count": 64,
   "metadata": {},
   "outputs": [
    {
     "data": {
      "text/plain": [
       "False"
      ]
     },
     "execution_count": 64,
     "metadata": {},
     "output_type": "execute_result"
    }
   ],
   "source": [
    "mina_b.explotando"
   ]
  },
  {
   "cell_type": "code",
   "execution_count": 65,
   "metadata": {},
   "outputs": [
    {
     "ename": "AttributeError",
     "evalue": "'Yacimiento' object has no attribute 'minar'",
     "output_type": "error",
     "traceback": [
      "\u001b[1;31m---------------------------------------------------------------------------\u001b[0m",
      "\u001b[1;31mAttributeError\u001b[0m                            Traceback (most recent call last)",
      "\u001b[1;32m<ipython-input-65-09e3dc9d826b>\u001b[0m in \u001b[0;36m<module>\u001b[1;34m()\u001b[0m\n\u001b[1;32m----> 1\u001b[1;33m \u001b[0mmina_b\u001b[0m\u001b[1;33m.\u001b[0m \u001b[0mminar\u001b[0m\u001b[1;33m(\u001b[0m\u001b[1;33m)\u001b[0m\u001b[1;33m\u001b[0m\u001b[0m\n\u001b[0m",
      "\u001b[1;31mAttributeError\u001b[0m: 'Yacimiento' object has no attribute 'minar'"
     ]
    }
   ],
   "source": [
    "mina_b. minar()"
   ]
  },
  {
   "cell_type": "code",
   "execution_count": 66,
   "metadata": {},
   "outputs": [
    {
     "data": {
      "text/plain": [
       "False"
      ]
     },
     "execution_count": 66,
     "metadata": {},
     "output_type": "execute_result"
    }
   ],
   "source": [
    "mina_b.explotando"
   ]
  },
  {
   "cell_type": "code",
   "execution_count": 67,
   "metadata": {},
   "outputs": [],
   "source": [
    "class Yacimiento():\n",
    "    minerales = True\n",
    "    explotando = False\n",
    "    \n",
    "    def __init__(self, nombre=None, tipo=None, pais=None, producto=None):\n",
    "        \n",
    "        self.nombre = nombre\n",
    "        self.tipo = tipo\n",
    "        self.pais = pais\n",
    "        self.producto = producto\n",
    "        \n",
    "        if nombre is not None and tipo is not None and pais is not None and producto is not None:\n",
    "            print(\"La mina {} es de tipo {}, esta ubicada en {} y explota {}.\".format(nombre, tipo, pais, producto))\n",
    "        else:\n",
    "            print(\"A la mina le faltan atributos por ingresar.\")\n",
    "            \n",
    "    def minar(self):\n",
    "        self.explotando = True\n",
    "        \n",
    "        if (self.explotando) is True:\n",
    "            print(\"La mina {} esta en explotación.\".format(self.nombre))"
   ]
  },
  {
   "cell_type": "code",
   "execution_count": 68,
   "metadata": {},
   "outputs": [
    {
     "name": "stdout",
     "output_type": "stream",
     "text": [
      "La mina Bingham es de tipo Porfido, esta ubicada en EEUU y explota Cobre.\n"
     ]
    }
   ],
   "source": [
    "mina_c = Yacimiento(\"Bingham\", \"Porfido\", \"EEUU\", \"Cobre\")"
   ]
  },
  {
   "cell_type": "code",
   "execution_count": 69,
   "metadata": {},
   "outputs": [
    {
     "name": "stdout",
     "output_type": "stream",
     "text": [
      "La mina Bingham esta en explotación.\n"
     ]
    }
   ],
   "source": [
    "mina_c.minar()"
   ]
  },
  {
   "cell_type": "code",
   "execution_count": 70,
   "metadata": {},
   "outputs": [
    {
     "name": "stdout",
     "output_type": "stream",
     "text": [
      "Actualmente tenemos las siguientes minas creadas: Chuquicamata , La Escondida y Bingham\n"
     ]
    }
   ],
   "source": [
    "print(\"Actualmente tenemos las siguientes minas creadas:\", mina_a.nombre,\",\", mina_b.nombre,\"y\", mina_c.nombre)"
   ]
  },
  {
   "cell_type": "code",
   "execution_count": 71,
   "metadata": {},
   "outputs": [],
   "source": [
    "class Yacimiento():\n",
    "    minerales = True\n",
    "    explotando = False\n",
    "    \n",
    "    def __init__(self, nombre=None, tipo=None, pais=None, producto=None):\n",
    "        \n",
    "        self.nombre = nombre\n",
    "        self.tipo = tipo\n",
    "        self.pais = pais\n",
    "        self.producto = producto\n",
    "        \n",
    "        if nombre is not None and tipo is not None and pais is not None and producto is not None:\n",
    "            print(\"La mina {} es de tipo {}, esta ubicada en {} y explota {}.\".format(nombre, tipo, pais, producto))\n",
    "        else:\n",
    "            print(\"A la mina le faltan atributos por ingresar.\")\n",
    "            \n",
    "    def minar(self):\n",
    "        self.explotando = True\n",
    "        \n",
    "        if (self.explotando) is True:\n",
    "            print(\"La mina {} esta en explotación.\".format(self.nombre))\n",
    "            \n",
    "    def __del__(self):\n",
    "        pass"
   ]
  },
  {
   "cell_type": "code",
   "execution_count": 72,
   "metadata": {},
   "outputs": [],
   "source": [
    "del(mina_a)"
   ]
  },
  {
   "cell_type": "code",
   "execution_count": 73,
   "metadata": {},
   "outputs": [
    {
     "ename": "NameError",
     "evalue": "name 'mina_a' is not defined",
     "output_type": "error",
     "traceback": [
      "\u001b[1;31m---------------------------------------------------------------------------\u001b[0m",
      "\u001b[1;31mNameError\u001b[0m                                 Traceback (most recent call last)",
      "\u001b[1;32m<ipython-input-73-19da3d9d06cc>\u001b[0m in \u001b[0;36m<module>\u001b[1;34m()\u001b[0m\n\u001b[1;32m----> 1\u001b[1;33m \u001b[0mmina_a\u001b[0m\u001b[1;33m.\u001b[0m\u001b[0mnombre\u001b[0m\u001b[1;33m\u001b[0m\u001b[0m\n\u001b[0m",
      "\u001b[1;31mNameError\u001b[0m: name 'mina_a' is not defined"
     ]
    }
   ],
   "source": [
    "mina_a.nombre"
   ]
  },
  {
   "cell_type": "code",
   "execution_count": 97,
   "metadata": {},
   "outputs": [],
   "source": [
    "class Exploracion():\n",
    "    exploracion = False\n",
    "    \n",
    "    def __init__(self):\n",
    "        print(\"Se ha propuesto una campaña de exploración.\")\n",
    "        \n",
    "    def sondear(self):\n",
    "        self.exploracion = True\n",
    "        if (self.exploracion) is True:\n",
    "            print(\"Se ha comenzado a sondear {}\".format(self.nombre))\n",
    "            \n",
    "class Yacimiento(Exploracion):\n",
    "    \n",
    "    def __init__(self, nombre):\n",
    "        self.nombre = nombre\n",
    "        print(\"Se creo un  yacimiento\")"
   ]
  },
  {
   "cell_type": "code",
   "execution_count": 98,
   "metadata": {},
   "outputs": [
    {
     "name": "stdout",
     "output_type": "stream",
     "text": [
      "Se creo un  yacimiento\n"
     ]
    }
   ],
   "source": [
    "mina_d = Yacimiento(\"Mina San Geronimo\")"
   ]
  },
  {
   "cell_type": "code",
   "execution_count": 99,
   "metadata": {},
   "outputs": [
    {
     "data": {
      "text/plain": [
       "False"
      ]
     },
     "execution_count": 99,
     "metadata": {},
     "output_type": "execute_result"
    }
   ],
   "source": [
    "mina_d.exploracion"
   ]
  },
  {
   "cell_type": "code",
   "execution_count": 100,
   "metadata": {},
   "outputs": [
    {
     "name": "stdout",
     "output_type": "stream",
     "text": [
      "Se ha comenzado a sondear Mina San Geronimo\n"
     ]
    }
   ],
   "source": [
    "mina_d.sondear()"
   ]
  },
  {
   "cell_type": "code",
   "execution_count": 101,
   "metadata": {},
   "outputs": [
    {
     "data": {
      "text/plain": [
       "True"
      ]
     },
     "execution_count": 101,
     "metadata": {},
     "output_type": "execute_result"
    }
   ],
   "source": [
    "mina_d.exploracion"
   ]
  }
 ],
 "metadata": {
  "kernelspec": {
   "display_name": "Python 3",
   "language": "python",
   "name": "python3"
  },
  "language_info": {
   "codemirror_mode": {
    "name": "ipython",
    "version": 3
   },
   "file_extension": ".py",
   "mimetype": "text/x-python",
   "name": "python",
   "nbconvert_exporter": "python",
   "pygments_lexer": "ipython3",
   "version": "3.7.0"
  }
 },
 "nbformat": 4,
 "nbformat_minor": 2
}
