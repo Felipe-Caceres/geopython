{
 "cells": [
  {
   "cell_type": "markdown",
   "metadata": {},
   "source": [
    "### LECCIÓN IV: ENTRADA Y SALIDA"
   ]
  },
  {
   "cell_type": "markdown",
   "metadata": {},
   "source": [
    "* Si CV del bloque es < 25%: medido\n",
    "* Si CV del bloque es >=25% y <40%: indicado\n",
    "* Si CV del bloque es >=40%: inferido\n",
    "\n",
    "**CV [%] = (𝜎 / μ)*100**"
   ]
  },
  {
   "cell_type": "code",
   "execution_count": 1,
   "metadata": {},
   "outputs": [],
   "source": [
    "from math import sqrt"
   ]
  },
  {
   "cell_type": "code",
   "execution_count": 4,
   "metadata": {},
   "outputs": [
    {
     "name": "stdout",
     "output_type": "stream",
     "text": [
      "ingrese el valor estimado del bloque [Z*(x)]: 1.5\n",
      "ingrese el valor de la varianza de estimación del bloque [var(x)] :0.3\n",
      "CV del bloque:  36.51483716701107 %\n",
      "el bloque es indicado\n"
     ]
    }
   ],
   "source": [
    "z = float(input(\"ingrese el valor estimado del bloque [Z*(x)]: \"))\n",
    "var = float(input(\"ingrese el valor de la varianza de estimación del bloque [var(x)] :\" ))\n",
    "\n",
    "resultado = ((sqrt(var))/z)*100\n",
    "print(\"CV del bloque: \", resultado, \"%\")\n",
    "\n",
    "if resultado >= 0 and resultado < 25:\n",
    "    print(\"el bloque es medido\")\n",
    "elif resultado >= 25 and resultado < 40:\n",
    "    print(\"el bloque es indicado\")\n",
    "elif resultado >=40:\n",
    "    print(\"el bloque es inferido\")"
   ]
  }
 ],
 "metadata": {
  "kernelspec": {
   "display_name": "Python 3",
   "language": "python",
   "name": "python3"
  },
  "language_info": {
   "codemirror_mode": {
    "name": "ipython",
    "version": 3
   },
   "file_extension": ".py",
   "mimetype": "text/x-python",
   "name": "python",
   "nbconvert_exporter": "python",
   "pygments_lexer": "ipython3",
   "version": "3.7.0"
  }
 },
 "nbformat": 4,
 "nbformat_minor": 2
}
