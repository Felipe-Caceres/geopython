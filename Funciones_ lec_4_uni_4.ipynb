{
 "cells": [
  {
   "cell_type": "markdown",
   "metadata": {},
   "source": [
    "**Funciones Capsula: variograma experimental**"
   ]
  },
  {
   "cell_type": "markdown",
   "metadata": {},
   "source": [
    "* **gam_2d:** variograma de cuadrícula regular.\n",
    "* **vargplts:** envolotorio para generar un gráfico de variograma. "
   ]
  },
  {
   "cell_type": "code",
   "execution_count": 1,
   "metadata": {},
   "outputs": [],
   "source": [
    "def gam_2d(array,nx,ny,hsiz,nlag,xlag,ylag,bstand):\n",
    "    import os\n",
    "    import numpy as np\n",
    "    \n",
    "    lag = []; gamma = []; npair = []\n",
    "    \n",
    "    ndarray2GSLIB(array,\"gam_out.dat\",\"gam.dat\")\n",
    "    \n",
    "    file = open(\"gam.par\", \"w\")\n",
    "    file.write(\"                  Parameters for GAM                                       \\n\")\n",
    "    file.write(\"                  ******************                                       \\n\")\n",
    "    file.write(\"                                                                           \\n\")\n",
    "    file.write(\"START OF PARAMETERS:                                                       \\n\")\n",
    "    file.write(\"gam_out.dat           -file with data                                      \\n\")\n",
    "    file.write(\"1   1   0             -   number of variables, column numbers              \\n\")\n",
    "    file.write(\"-1.0e21     1.0e21    -   trimming limits                                  \\n\")\n",
    "    file.write(\"gam.out               -file for variogram output                           \\n\")\n",
    "    file.write(\"1                     -grid or realization number                          \\n\")\n",
    "    file.write(str(nx) + \" 0.0 \" + str(hsiz) + \"  -nx, xmn, xsiz                           \\n\")\n",
    "    file.write(str(ny) + \" 0.0 \" + str(hsiz) + \"  -ny, ymn, ysiz                           \\n\")\n",
    "    file.write(\" 1   0.5   1.0        -nz, zmn, zsiz                                       \\n\")\n",
    "    file.write(\"1 \" + str(nlag) + \"   -number of directions, number of lags                \\n\")\n",
    "    file.write(str(xlag) + \" \" + str(ylag) + \" 0 -ixd(1),iyd(1),izd(1)                     \\n\")\n",
    "    file.write(\"1                     -standardize sill? (0=no, 1=yes)                     \\n\")\n",
    "    file.write(\"1                     -number of variograms                                \\n\")\n",
    "    file.write(\"1   1   1             -tail variable, head variable, variogram type        \\n\") \n",
    "    file.close()\n",
    "    \n",
    "    os.system('gam.exe gam.par')\n",
    "    reading = True\n",
    "    with open(\"gam.out\") as myfile:   \n",
    "        head = [next(myfile) for x in range(1)] # skip the first line\n",
    "        iline = 0\n",
    "        while reading:\n",
    "            try:\n",
    "                head = [next(myfile) for x in range(1)]\n",
    "                lag.append(float(head[0].split()[1]))\n",
    "                gamma.append(float(head[0].split()[2]))\n",
    "                npair.append(float(head[0].split()[3]))\n",
    "                iline = iline + 1\n",
    "            except StopIteration:\n",
    "                reading = False   \n",
    "    \n",
    "    return(lag,gamma,npair)    "
   ]
  },
  {
   "cell_type": "code",
   "execution_count": 2,
   "metadata": {},
   "outputs": [],
   "source": [
    "def vargplts(lag,gamma,npair,vtype,name,xmin,xmax,ymin,ymax,sill,title,cmap):\n",
    "    plt.figure(figsize=(8,6))\n",
    "    marker = [\"o\",\"v\",\"s\",\"h\",\"^\",\">\",\"<\"]\n",
    "    nvar = lags.shape[0]\n",
    "    for ivar in range(0, nvar):\n",
    "        if vtype[ivar]==0:\n",
    "            im = plt.scatter(lag[ivar],gamma[ivar],s=None,label = name[ivar],c=npair[ivar], marker=marker[ivar], cmap=cmap, norm=None, alpha=0.8, linewidths=0.8, verts=None, edgecolors=\"black\")\n",
    "        else:\n",
    "            plt.plot(lag[ivar],gamma[ivar], 'C3', lw=3,c='black')\n",
    "    ixy = 0 \n",
    "    plt.title(title)\n",
    "    plt.xlim(xmin,xmax)\n",
    "    plt.ylim(ymin,ymax)    \n",
    "    plt.xlabel('Lag Distance (m)')\n",
    "    plt.ylabel('Variogram')\n",
    "    plt.arrow(0,sill,xmax,0,width=0.002,color='red',head_length=0.0,head_width=0.0)\n",
    "    plt.legend(loc = 'lower right')\n",
    "    cbar = plt.colorbar(im, orientation = 'vertical')\n",
    "    cbar.set_label('Number of Pairs', rotation=270, labelpad=20)\n",
    "    plt.show()\n",
    "    return im"
   ]
  },
  {
   "cell_type": "code",
   "execution_count": null,
   "metadata": {},
   "outputs": [],
   "source": []
  }
 ],
 "metadata": {
  "kernelspec": {
   "display_name": "Python 3",
   "language": "python",
   "name": "python3"
  },
  "language_info": {
   "codemirror_mode": {
    "name": "ipython",
    "version": 3
   },
   "file_extension": ".py",
   "mimetype": "text/x-python",
   "name": "python",
   "nbconvert_exporter": "python",
   "pygments_lexer": "ipython3",
   "version": "3.7.0"
  }
 },
 "nbformat": 4,
 "nbformat_minor": 2
}
