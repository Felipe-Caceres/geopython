{
 "cells": [
  {
   "cell_type": "markdown",
   "metadata": {},
   "source": [
    "### Kit PiKrige: Kriging Ordinario 3D"
   ]
  },
  {
   "cell_type": "markdown",
   "metadata": {},
   "source": [
    "**Bibliotecas:**"
   ]
  },
  {
   "cell_type": "code",
   "execution_count": 38,
   "metadata": {},
   "outputs": [],
   "source": [
    "from pykrige.ok3d import OrdinaryKriging3D\n",
    "import numpy as np\n",
    "import pandas as pd\n",
    "import matplotlib.pyplot as plt\n",
    "% matplotlib inline"
   ]
  },
  {
   "cell_type": "markdown",
   "metadata": {},
   "source": [
    "**Lectura de archivo:**"
   ]
  },
  {
   "cell_type": "code",
   "execution_count": 39,
   "metadata": {},
   "outputs": [],
   "source": [
    "carpeta = \"C:/Users/Heber/Desktop/curso_geopython/dataset_curso/\"\n",
    "archivo = \"muestras_cu.csv\"\n",
    "\n",
    "df = pd.read_csv(carpeta + archivo, sep=\";\")"
   ]
  },
  {
   "cell_type": "code",
   "execution_count": 40,
   "metadata": {},
   "outputs": [
    {
     "data": {
      "text/html": [
       "<div>\n",
       "<style scoped>\n",
       "    .dataframe tbody tr th:only-of-type {\n",
       "        vertical-align: middle;\n",
       "    }\n",
       "\n",
       "    .dataframe tbody tr th {\n",
       "        vertical-align: top;\n",
       "    }\n",
       "\n",
       "    .dataframe thead th {\n",
       "        text-align: right;\n",
       "    }\n",
       "</style>\n",
       "<table border=\"1\" class=\"dataframe\">\n",
       "  <thead>\n",
       "    <tr style=\"text-align: right;\">\n",
       "      <th></th>\n",
       "      <th>Este [X]</th>\n",
       "      <th>Norte [Y]</th>\n",
       "      <th>Cota [Z]</th>\n",
       "      <th>Ley de Cobre [%]</th>\n",
       "      <th>Ley de Oro [ppm]</th>\n",
       "      <th>Tipo de roca</th>\n",
       "    </tr>\n",
       "  </thead>\n",
       "  <tbody>\n",
       "    <tr>\n",
       "      <th>0</th>\n",
       "      <td>193.0</td>\n",
       "      <td>528.6</td>\n",
       "      <td>39.0</td>\n",
       "      <td>0.12</td>\n",
       "      <td>0.0</td>\n",
       "      <td>1</td>\n",
       "    </tr>\n",
       "  </tbody>\n",
       "</table>\n",
       "</div>"
      ],
      "text/plain": [
       "   Este [X]  Norte [Y]  Cota [Z]  Ley de Cobre [%]  Ley de Oro [ppm]  \\\n",
       "0     193.0      528.6      39.0              0.12               0.0   \n",
       "\n",
       "   Tipo de roca  \n",
       "0             1  "
      ]
     },
     "execution_count": 40,
     "metadata": {},
     "output_type": "execute_result"
    }
   ],
   "source": [
    "df.head(1)"
   ]
  },
  {
   "cell_type": "markdown",
   "metadata": {},
   "source": [
    "**Información básica del dataset:**"
   ]
  },
  {
   "cell_type": "code",
   "execution_count": 46,
   "metadata": {},
   "outputs": [
    {
     "name": "stdout",
     "output_type": "stream",
     "text": [
      "N° de datos: (2380,)\n"
     ]
    }
   ],
   "source": [
    "print(\"N° de datos:\", df['Ley de Cobre [%]'].shape)"
   ]
  },
  {
   "cell_type": "code",
   "execution_count": 49,
   "metadata": {},
   "outputs": [
    {
     "name": "stdout",
     "output_type": "stream",
     "text": [
      "xmin: 0.2 xmax: 399.0 ymin: 2.2 ymax: 598.9 zmin: 6.0 zmax: 136.0\n"
     ]
    }
   ],
   "source": [
    "print(\"xmin:\", df['Este [X]'].min(), \"xmax:\", df['Este [X]'].max(), \"ymin:\", df['Norte [Y]'].min(), \"ymax:\", df['Norte [Y]'].max(), \"zmin:\", df['Cota [Z]'].min(), \"zmax:\", df['Cota [Z]'].max())"
   ]
  },
  {
   "cell_type": "code",
   "execution_count": 52,
   "metadata": {},
   "outputs": [
    {
     "name": "stdout",
     "output_type": "stream",
     "text": [
      "Varianza de la ley de cobre: 0.42\n"
     ]
    }
   ],
   "source": [
    "print(\"Varianza de la ley de cobre:\", round(df['Ley de Cobre [%]'].var(),2))"
   ]
  },
  {
   "cell_type": "markdown",
   "metadata": {},
   "source": [
    "**Conversión de las variables a ndarray:**"
   ]
  },
  {
   "cell_type": "code",
   "execution_count": 53,
   "metadata": {},
   "outputs": [],
   "source": [
    "x = np.array(df['Este [X]'])\n",
    "y = np.array(df['Norte [Y]'])\n",
    "z = np.array(df['Cota [Z]'])\n",
    "val = np.array(df['Ley de Cobre [%]'])"
   ]
  },
  {
   "cell_type": "markdown",
   "metadata": {},
   "source": [
    "**Variograma:**"
   ]
  },
  {
   "cell_type": "code",
   "execution_count": 54,
   "metadata": {},
   "outputs": [
    {
     "name": "stdout",
     "output_type": "stream",
     "text": [
      "Plotting Enabled\n",
      "\n",
      "Adjusting data for anisotropy...\n",
      "Initializing variogram model...\n",
      "Using 'spherical' Variogram Model\n",
      "Partial Sill: 0.2237191577381189\n",
      "Full Sill: 0.4448786730701004\n",
      "Range: 161.67206062574257\n",
      "Nugget: 0.22115951533198153 \n",
      "\n"
     ]
    },
    {
     "data": {
      "image/png": "[encoded data removed]",
      "text/plain": [
       "<Figure size 432x288 with 1 Axes>"
      ]
     },
     "metadata": {
      "needs_background": "light"
     },
     "output_type": "display_data"
    },
    {
     "name": "stdout",
     "output_type": "stream",
     "text": [
      "Calculating statistics on variogram model fit...\n",
      "Q1 = 0.461081892100211\n",
      "Q2 = 0.7610599838070543\n",
      "cR = 0.21791687136806986 \n",
      "\n"
     ]
    }
   ],
   "source": [
    "ok3d = OrdinaryKriging3D(x,y,z,val,variogram_model='spherical', nlags=10, enable_plotting=True, verbose=True)"
   ]
  },
  {
   "cell_type": "markdown",
   "metadata": {},
   "source": [
    "**Grid set:**"
   ]
  },
  {
   "cell_type": "code",
   "execution_count": 55,
   "metadata": {},
   "outputs": [],
   "source": [
    "gridx= np.linspace(0,410, num=41, endpoint=False)\n",
    "gridy= np.linspace(0,610, num=61, endpoint=False)\n",
    "gridz= np.linspace(0,150, num=15, endpoint=False)"
   ]
  },
  {
   "cell_type": "code",
   "execution_count": 59,
   "metadata": {},
   "outputs": [],
   "source": [
    "zg, yg, xg = np.meshgrid(gridz, gridy, gridx, indexing='ij')"
   ]
  },
  {
   "cell_type": "code",
   "execution_count": 63,
   "metadata": {},
   "outputs": [
    {
     "data": {
      "image/png": "[encoded data removed]",
      "text/plain": [
       "<Figure size 360x360 with 1 Axes>"
      ]
     },
     "metadata": {
      "needs_background": "light"
     },
     "output_type": "display_data"
    }
   ],
   "source": [
    "fig = plt.figure(figsize=(5,5))\n",
    "plot1 = fig.add_subplot(111)\n",
    "a = plt.scatter(xg,yg)\n",
    "plt.xlabel(\"Este [X]\")\n",
    "plt.ylabel(\"Norte [Y]\")\n",
    "plt.title(\"Grid X-Y\")\n",
    "plt.grid(True)"
   ]
  },
  {
   "cell_type": "code",
   "execution_count": 66,
   "metadata": {},
   "outputs": [
    {
     "data": {
      "image/png": "[encoded data removed]",
      "text/plain": [
       "<Figure size 360x360 with 1 Axes>"
      ]
     },
     "metadata": {
      "needs_background": "light"
     },
     "output_type": "display_data"
    }
   ],
   "source": [
    "fig3d = plt.figure(figsize=(5,5))\n",
    "plot3d = fig3d.add_subplot(111, projection='3d')\n",
    "plot3d.scatter(xg,yg,zg)\n",
    "plot3d.set_xlabel(\"Este [X]\")\n",
    "plot3d.set_ylabel(\"Norte [Y]\")\n",
    "plot3d.set_zlabel(\"Cota [Z]\")\n",
    "plt.show()"
   ]
  },
  {
   "cell_type": "markdown",
   "metadata": {},
   "source": [
    "**Kriging Ordinario 3d:**"
   ]
  },
  {
   "cell_type": "code",
   "execution_count": 67,
   "metadata": {},
   "outputs": [
    {
     "name": "stdout",
     "output_type": "stream",
     "text": [
      "Executing Ordinary Kriging...\n",
      "\n"
     ]
    }
   ],
   "source": [
    "k3d, ss3d = ok3d.execute('grid', gridx, gridy, gridz)"
   ]
  }
 ],
 "metadata": {
  "kernelspec": {
   "display_name": "Python 3",
   "language": "python",
   "name": "python3"
  },
  "language_info": {
   "codemirror_mode": {
    "name": "ipython",
    "version": 3
   },
   "file_extension": ".py",
   "mimetype": "text/x-python",
   "name": "python",
   "nbconvert_exporter": "python",
   "pygments_lexer": "ipython3",
   "version": "3.7.0"
  }
 },
 "nbformat": 4,
 "nbformat_minor": 2
}
