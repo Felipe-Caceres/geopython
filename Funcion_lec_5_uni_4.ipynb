{
 "cells": [
  {
   "cell_type": "markdown",
   "metadata": {},
   "source": [
    "**Función capsula:** \"vmodel_2d\" para el ajuste de un variograma experimental a través de una o mas estructuras teoricas (esférica, exponencial, gaussiana). "
   ]
  },
  {
   "cell_type": "code",
   "execution_count": 1,
   "metadata": {},
   "outputs": [],
   "source": [
    "def vmodel_2d(nlag,step,azi,nug,nst,tstr1,c1,azi1,rmaj1,rmin1,tstr2=1,c2=0,azi2=0,rmaj2=0,rmin2=0):\n",
    "    import os\n",
    "    import numpy as np\n",
    "\n",
    "    lag = []; gamma = []\n",
    "    \n",
    "    file = open(\"vmodel.par\", \"w\")\n",
    "    file.write(\"                                                                           \\n\")\n",
    "    file.write(\"                  Parameters for VMODEL                                    \\n\")\n",
    "    file.write(\"                  *********************                                    \\n\")\n",
    "    file.write(\"                                                                           \\n\")\n",
    "    file.write(\"START OF PARAMETERS:                                                       \\n\")\n",
    "    file.write(\"vmodel.var                   -file for variogram output                    \\n\")\n",
    "    file.write(\"1 \" + str(nlag) + \"          -number of directions and lags                \\n\")\n",
    "    file.write(str(azi) + \" 0.0 \" + str(step) + \" -azm, dip, lag distance                  \\n\")\n",
    "    file.write(str(nst) + \" \" + str(nug) + \" -nst, nugget effect                           \\n\")\n",
    "    file.write(str(tstr1) + \" \" + str(c1) + \" \" + str(azi1) + \" 0.0   0.0   0.0 -it,cc,ang1,ang2,ang3 \\n\")\n",
    "    file.write(str(rmaj1) + \" \" + str(rmin1) + \" 0.0 -a_hmax, a_hmin, a_vert               \\n\")\n",
    "    file.write(str(tstr2) + \" \" + str(c2) + \" \" + str(azi2) + \" 0.0   0.0   0.0 -it,cc,ang1,ang2,ang3 \\n\")\n",
    "    file.write(str(rmaj2) + \" \" + str(rmin2) + \" 0.0 -a_hmax, a_hmin, a_vert               \\n\")\n",
    "    file.close()\n",
    "    \n",
    "    os.system('vmodel.exe vmodel.par')\n",
    "    reading = True\n",
    "    with open(\"vmodel.var\") as myfile:   \n",
    "        head = [next(myfile) for x in range(1)] # skip the first line\n",
    "        iline = 0\n",
    "        while reading:\n",
    "            try:\n",
    "                head = [next(myfile) for x in range(1)]\n",
    "                lag.append(float(head[0].split()[1]))\n",
    "                gamma.append(float(head[0].split()[2]))\n",
    "                iline = iline + 1\n",
    "            except StopIteration:\n",
    "                reading = False   \n",
    "    \n",
    "    return(lag,gamma)  "
   ]
  }
 ],
 "metadata": {
  "kernelspec": {
   "display_name": "Python 3",
   "language": "python",
   "name": "python3"
  },
  "language_info": {
   "codemirror_mode": {
    "name": "ipython",
    "version": 3
   },
   "file_extension": ".py",
   "mimetype": "text/x-python",
   "name": "python",
   "nbconvert_exporter": "python",
   "pygments_lexer": "ipython3",
   "version": "3.7.0"
  }
 },
 "nbformat": 4,
 "nbformat_minor": 2
}
