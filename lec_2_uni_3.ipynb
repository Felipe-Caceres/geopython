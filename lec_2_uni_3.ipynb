{
 "cells": [
  {
   "cell_type": "markdown",
   "metadata": {},
   "source": [
    "****LA SEMILLA DE LA COMPOSITACIÓN****\n",
    "\n",
    "Heber Hernández Guerra, 2018\n",
    "\n",
    "En este ejemplo de compositación de sondaje, hablaremos de 3 matrices:\n",
    "* La primera será llamada matriz de entrada [A] (datos originales).\n",
    "* la segunda será llamada matriz de salida [B] (datos compositados).\n",
    "* la tercera será llamada matriz de desarrollo (medio para converir [A] en [B]).\n",
    "\n",
    "En cuanto al curso:\n",
    "\n",
    "* Tanto el dataset N° 1 como el dataset N° 2 ya estan compositados.\n",
    "\n",
    "En cuanto a librerias con la función de compositar:\n",
    "\n",
    "* *Pygslib* es una librería de python que contiene una función para compositar. Dicha libreria la revisaremos en otra unidad.\n"
   ]
  },
  {
   "cell_type": "code",
   "execution_count": 27,
   "metadata": {},
   "outputs": [
    {
     "data": {
      "text/html": [
       "<div>\n",
       "<style scoped>\n",
       "    .dataframe tbody tr th:only-of-type {\n",
       "        vertical-align: middle;\n",
       "    }\n",
       "\n",
       "    .dataframe tbody tr th {\n",
       "        vertical-align: top;\n",
       "    }\n",
       "\n",
       "    .dataframe thead th {\n",
       "        text-align: right;\n",
       "    }\n",
       "</style>\n",
       "<table border=\"1\" class=\"dataframe\">\n",
       "  <thead>\n",
       "    <tr style=\"text-align: right;\">\n",
       "      <th></th>\n",
       "      <th>dhid</th>\n",
       "      <th>from</th>\n",
       "      <th>to</th>\n",
       "      <th>grade</th>\n",
       "    </tr>\n",
       "  </thead>\n",
       "  <tbody>\n",
       "    <tr>\n",
       "      <th>0</th>\n",
       "      <td>1</td>\n",
       "      <td>0</td>\n",
       "      <td>1</td>\n",
       "      <td>3</td>\n",
       "    </tr>\n",
       "    <tr>\n",
       "      <th>1</th>\n",
       "      <td>1</td>\n",
       "      <td>1</td>\n",
       "      <td>3</td>\n",
       "      <td>2</td>\n",
       "    </tr>\n",
       "    <tr>\n",
       "      <th>2</th>\n",
       "      <td>1</td>\n",
       "      <td>3</td>\n",
       "      <td>8</td>\n",
       "      <td>4</td>\n",
       "    </tr>\n",
       "    <tr>\n",
       "      <th>3</th>\n",
       "      <td>1</td>\n",
       "      <td>8</td>\n",
       "      <td>15</td>\n",
       "      <td>0</td>\n",
       "    </tr>\n",
       "    <tr>\n",
       "      <th>4</th>\n",
       "      <td>1</td>\n",
       "      <td>15</td>\n",
       "      <td>20</td>\n",
       "      <td>1</td>\n",
       "    </tr>\n",
       "  </tbody>\n",
       "</table>\n",
       "</div>"
      ],
      "text/plain": [
       "   dhid  from  to  grade\n",
       "0     1     0   1      3\n",
       "1     1     1   3      2\n",
       "2     1     3   8      4\n",
       "3     1     8  15      0\n",
       "4     1    15  20      1"
      ]
     },
     "execution_count": 27,
     "metadata": {},
     "output_type": "execute_result"
    }
   ],
   "source": [
    "import pandas as pd\n",
    "import numpy as np\n",
    "from numpy import random\n",
    "\n",
    "d = {'dhid': [1,1,1,1,1], 'from': [0,1,3,8,15], 'to': [1,3,8,15,20]}\n",
    "\n",
    "df = pd.DataFrame(data=d)\n",
    "\n",
    "\n",
    "g = np.arange(5)  # [0, 1, 2, 3, 4]\n",
    "random.shuffle(g)  # mezclar!\n",
    "\n",
    "df['grade'] = g\n",
    "\n",
    "#Podemos crear un DataFrame con leyes (grade) aleatoriamente dentro de un intervalo.\n",
    "\n",
    "df.head()"
   ]
  },
  {
   "cell_type": "code",
   "execution_count": 28,
   "metadata": {},
   "outputs": [
    {
     "data": {
      "text/html": [
       "<div>\n",
       "<style scoped>\n",
       "    .dataframe tbody tr th:only-of-type {\n",
       "        vertical-align: middle;\n",
       "    }\n",
       "\n",
       "    .dataframe tbody tr th {\n",
       "        vertical-align: top;\n",
       "    }\n",
       "\n",
       "    .dataframe thead th {\n",
       "        text-align: right;\n",
       "    }\n",
       "</style>\n",
       "<table border=\"1\" class=\"dataframe\">\n",
       "  <thead>\n",
       "    <tr style=\"text-align: right;\">\n",
       "      <th></th>\n",
       "      <th>dhid</th>\n",
       "      <th>from</th>\n",
       "      <th>to</th>\n",
       "      <th>grade</th>\n",
       "    </tr>\n",
       "  </thead>\n",
       "  <tbody>\n",
       "    <tr>\n",
       "      <th>0</th>\n",
       "      <td>1</td>\n",
       "      <td>0</td>\n",
       "      <td>1</td>\n",
       "      <td>1</td>\n",
       "    </tr>\n",
       "    <tr>\n",
       "      <th>1</th>\n",
       "      <td>1</td>\n",
       "      <td>1</td>\n",
       "      <td>3</td>\n",
       "      <td>2</td>\n",
       "    </tr>\n",
       "    <tr>\n",
       "      <th>2</th>\n",
       "      <td>1</td>\n",
       "      <td>3</td>\n",
       "      <td>8</td>\n",
       "      <td>3</td>\n",
       "    </tr>\n",
       "    <tr>\n",
       "      <th>3</th>\n",
       "      <td>1</td>\n",
       "      <td>8</td>\n",
       "      <td>15</td>\n",
       "      <td>4</td>\n",
       "    </tr>\n",
       "    <tr>\n",
       "      <th>4</th>\n",
       "      <td>1</td>\n",
       "      <td>15</td>\n",
       "      <td>20</td>\n",
       "      <td>5</td>\n",
       "    </tr>\n",
       "  </tbody>\n",
       "</table>\n",
       "</div>"
      ],
      "text/plain": [
       "   dhid  from  to  grade\n",
       "0     1     0   1      1\n",
       "1     1     1   3      2\n",
       "2     1     3   8      3\n",
       "3     1     8  15      4\n",
       "4     1    15  20      5"
      ]
     },
     "execution_count": 28,
     "metadata": {},
     "output_type": "execute_result"
    }
   ],
   "source": [
    "d = {'dhid': [1,1,1,1,1], 'from': [0,1,3,8,15], 'to': [1,3,8,15,20], 'grade': [1,2,3,4,5]}\n",
    "\n",
    "df = pd.DataFrame(data=d)\n",
    "\n",
    "#Podemos tambien dejar estaticos los valores \"grade\".\n",
    "\n",
    "df.head()"
   ]
  },
  {
   "cell_type": "markdown",
   "metadata": {},
   "source": [
    "Normalmente las tablas \"assay\", vienen con dicho formato. **Agregaremos la longitud**: *len*"
   ]
  },
  {
   "cell_type": "code",
   "execution_count": 29,
   "metadata": {},
   "outputs": [
    {
     "data": {
      "text/html": [
       "<div>\n",
       "<style scoped>\n",
       "    .dataframe tbody tr th:only-of-type {\n",
       "        vertical-align: middle;\n",
       "    }\n",
       "\n",
       "    .dataframe tbody tr th {\n",
       "        vertical-align: top;\n",
       "    }\n",
       "\n",
       "    .dataframe thead th {\n",
       "        text-align: right;\n",
       "    }\n",
       "</style>\n",
       "<table border=\"1\" class=\"dataframe\">\n",
       "  <thead>\n",
       "    <tr style=\"text-align: right;\">\n",
       "      <th></th>\n",
       "      <th>dhid</th>\n",
       "      <th>from</th>\n",
       "      <th>to</th>\n",
       "      <th>grade</th>\n",
       "      <th>len</th>\n",
       "    </tr>\n",
       "  </thead>\n",
       "  <tbody>\n",
       "    <tr>\n",
       "      <th>0</th>\n",
       "      <td>1</td>\n",
       "      <td>0</td>\n",
       "      <td>1</td>\n",
       "      <td>1</td>\n",
       "      <td>1</td>\n",
       "    </tr>\n",
       "    <tr>\n",
       "      <th>1</th>\n",
       "      <td>1</td>\n",
       "      <td>1</td>\n",
       "      <td>3</td>\n",
       "      <td>2</td>\n",
       "      <td>2</td>\n",
       "    </tr>\n",
       "    <tr>\n",
       "      <th>2</th>\n",
       "      <td>1</td>\n",
       "      <td>3</td>\n",
       "      <td>8</td>\n",
       "      <td>3</td>\n",
       "      <td>5</td>\n",
       "    </tr>\n",
       "    <tr>\n",
       "      <th>3</th>\n",
       "      <td>1</td>\n",
       "      <td>8</td>\n",
       "      <td>15</td>\n",
       "      <td>4</td>\n",
       "      <td>7</td>\n",
       "    </tr>\n",
       "    <tr>\n",
       "      <th>4</th>\n",
       "      <td>1</td>\n",
       "      <td>15</td>\n",
       "      <td>20</td>\n",
       "      <td>5</td>\n",
       "      <td>5</td>\n",
       "    </tr>\n",
       "  </tbody>\n",
       "</table>\n",
       "</div>"
      ],
      "text/plain": [
       "   dhid  from  to  grade  len\n",
       "0     1     0   1      1    1\n",
       "1     1     1   3      2    2\n",
       "2     1     3   8      3    5\n",
       "3     1     8  15      4    7\n",
       "4     1    15  20      5    5"
      ]
     },
     "execution_count": 29,
     "metadata": {},
     "output_type": "execute_result"
    }
   ],
   "source": [
    "df['len'] = (df['to'] - df['from']) # len = from - to\n",
    "\n",
    "df.head()"
   ]
  },
  {
   "cell_type": "markdown",
   "metadata": {},
   "source": [
    "Tambien agregaremos una longitud acumulada: *len_acum*"
   ]
  },
  {
   "cell_type": "code",
   "execution_count": 30,
   "metadata": {},
   "outputs": [
    {
     "data": {
      "text/html": [
       "<div>\n",
       "<style scoped>\n",
       "    .dataframe tbody tr th:only-of-type {\n",
       "        vertical-align: middle;\n",
       "    }\n",
       "\n",
       "    .dataframe tbody tr th {\n",
       "        vertical-align: top;\n",
       "    }\n",
       "\n",
       "    .dataframe thead th {\n",
       "        text-align: right;\n",
       "    }\n",
       "</style>\n",
       "<table border=\"1\" class=\"dataframe\">\n",
       "  <thead>\n",
       "    <tr style=\"text-align: right;\">\n",
       "      <th></th>\n",
       "      <th>dhid</th>\n",
       "      <th>from</th>\n",
       "      <th>to</th>\n",
       "      <th>grade</th>\n",
       "      <th>len</th>\n",
       "      <th>len_acum</th>\n",
       "    </tr>\n",
       "  </thead>\n",
       "  <tbody>\n",
       "    <tr>\n",
       "      <th>0</th>\n",
       "      <td>1</td>\n",
       "      <td>0</td>\n",
       "      <td>1</td>\n",
       "      <td>1</td>\n",
       "      <td>1</td>\n",
       "      <td>1</td>\n",
       "    </tr>\n",
       "    <tr>\n",
       "      <th>1</th>\n",
       "      <td>1</td>\n",
       "      <td>1</td>\n",
       "      <td>3</td>\n",
       "      <td>2</td>\n",
       "      <td>2</td>\n",
       "      <td>3</td>\n",
       "    </tr>\n",
       "    <tr>\n",
       "      <th>2</th>\n",
       "      <td>1</td>\n",
       "      <td>3</td>\n",
       "      <td>8</td>\n",
       "      <td>3</td>\n",
       "      <td>5</td>\n",
       "      <td>8</td>\n",
       "    </tr>\n",
       "    <tr>\n",
       "      <th>3</th>\n",
       "      <td>1</td>\n",
       "      <td>8</td>\n",
       "      <td>15</td>\n",
       "      <td>4</td>\n",
       "      <td>7</td>\n",
       "      <td>15</td>\n",
       "    </tr>\n",
       "    <tr>\n",
       "      <th>4</th>\n",
       "      <td>1</td>\n",
       "      <td>15</td>\n",
       "      <td>20</td>\n",
       "      <td>5</td>\n",
       "      <td>5</td>\n",
       "      <td>20</td>\n",
       "    </tr>\n",
       "  </tbody>\n",
       "</table>\n",
       "</div>"
      ],
      "text/plain": [
       "   dhid  from  to  grade  len  len_acum\n",
       "0     1     0   1      1    1         1\n",
       "1     1     1   3      2    2         3\n",
       "2     1     3   8      3    5         8\n",
       "3     1     8  15      4    7        15\n",
       "4     1    15  20      5    5        20"
      ]
     },
     "execution_count": 30,
     "metadata": {},
     "output_type": "execute_result"
    }
   ],
   "source": [
    "df['len_acum'] = df.len.cumsum() #suma acumulada de la variable \"len\"\n",
    "\n",
    "df.head() #df de entrada, se sugiere guardar pd.to_csv() para no variar las leyes (grades)"
   ]
  },
  {
   "cell_type": "markdown",
   "metadata": {},
   "source": [
    "**Conociendo de la librería Pygslib la creación de la matriz de compositos:**\n",
    "    \n",
    "    #create the composite arrays\n",
    "    \n",
    "* cfrom = np.arange(0.,ito[-1]+cint,cint)     \"cfrom\" es un rango que parte en \"0\" hasta ultima posición de \"to\" + el valor del                                                  composito, con un step del valor del composito.\n",
    "    \n",
    "* cto = cfrom + cint                           \"cto\" es el cfrom + el valor del composito. ej: 0 + 5 = 5 = [0,5]\n",
    "\n",
    "* clen = np.zeros (cto.shape)                  \"clen\" queda relleno con valores \"0\" en base a la cantidad de valores to.\n",
    "* cvar = np.zeros (cto.shape)                  \"var\" = \"clen\"\n",
    "* cvar[:] = np.nan                             Luego \"cvar\" se convierte en valores \"NaN\"\n",
    "* cacum = np.zeros (cto.shape)                 \"cacum\" completo de valores cero.\n",
    "\n",
    "* iprop =np.zeros(ito.shape)                    "
   ]
  },
  {
   "cell_type": "markdown",
   "metadata": {},
   "source": [
    "**¿Cúal es el criterio para la longitud de compositación?**\n",
    "\n",
    "* Moda estadística para este caso, aunque bien sabemos que hay otras."
   ]
  },
  {
   "cell_type": "code",
   "execution_count": 31,
   "metadata": {},
   "outputs": [
    {
     "data": {
      "text/plain": [
       "0    5\n",
       "dtype: int64"
      ]
     },
     "execution_count": 31,
     "metadata": {},
     "output_type": "execute_result"
    }
   ],
   "source": [
    "df['len'].mode() # encontrando la moda de la longitud de testigos."
   ]
  },
  {
   "cell_type": "code",
   "execution_count": 32,
   "metadata": {},
   "outputs": [],
   "source": [
    "len_com = df['len'].mode() # Longitud de composito es igual a 5 m."
   ]
  },
  {
   "cell_type": "code",
   "execution_count": 33,
   "metadata": {},
   "outputs": [
    {
     "data": {
      "text/html": [
       "<div>\n",
       "<style scoped>\n",
       "    .dataframe tbody tr th:only-of-type {\n",
       "        vertical-align: middle;\n",
       "    }\n",
       "\n",
       "    .dataframe tbody tr th {\n",
       "        vertical-align: top;\n",
       "    }\n",
       "\n",
       "    .dataframe thead th {\n",
       "        text-align: right;\n",
       "    }\n",
       "</style>\n",
       "<table border=\"1\" class=\"dataframe\">\n",
       "  <thead>\n",
       "    <tr style=\"text-align: right;\">\n",
       "      <th></th>\n",
       "      <th>dhid</th>\n",
       "      <th>from</th>\n",
       "      <th>to</th>\n",
       "      <th>grade</th>\n",
       "      <th>len</th>\n",
       "      <th>len_acum</th>\n",
       "    </tr>\n",
       "  </thead>\n",
       "  <tbody>\n",
       "    <tr>\n",
       "      <th>0</th>\n",
       "      <td>1</td>\n",
       "      <td>0</td>\n",
       "      <td>5</td>\n",
       "      <td>NaN</td>\n",
       "      <td>5</td>\n",
       "      <td>5</td>\n",
       "    </tr>\n",
       "    <tr>\n",
       "      <th>1</th>\n",
       "      <td>1</td>\n",
       "      <td>5</td>\n",
       "      <td>10</td>\n",
       "      <td>NaN</td>\n",
       "      <td>5</td>\n",
       "      <td>10</td>\n",
       "    </tr>\n",
       "    <tr>\n",
       "      <th>2</th>\n",
       "      <td>1</td>\n",
       "      <td>10</td>\n",
       "      <td>15</td>\n",
       "      <td>NaN</td>\n",
       "      <td>5</td>\n",
       "      <td>15</td>\n",
       "    </tr>\n",
       "    <tr>\n",
       "      <th>3</th>\n",
       "      <td>1</td>\n",
       "      <td>15</td>\n",
       "      <td>20</td>\n",
       "      <td>NaN</td>\n",
       "      <td>5</td>\n",
       "      <td>20</td>\n",
       "    </tr>\n",
       "  </tbody>\n",
       "</table>\n",
       "</div>"
      ],
      "text/plain": [
       "   dhid  from  to  grade  len  len_acum\n",
       "0     1     0   5    NaN    5         5\n",
       "1     1     5  10    NaN    5        10\n",
       "2     1    10  15    NaN    5        15\n",
       "3     1    15  20    NaN    5        20"
      ]
     },
     "execution_count": 33,
     "metadata": {},
     "output_type": "execute_result"
    }
   ],
   "source": [
    "d2 = {'dhid': [1,1,1,1], 'from': list(range(0,16,5)), 'to': list(range(5,21,5))}\n",
    "\n",
    "df2 = pd.DataFrame(data=d2)\n",
    "\n",
    "a = np.zeros(df2['to'].shape) #Rutina que crea valores cero (opción 1)\n",
    "\n",
    "b = np.nan # Directamente se le asigna un valor perdido NaN\n",
    "\n",
    "df2['grade'] = b\n",
    "\n",
    "\n",
    "df2['len'] = (df2['to'] - df2['from'])\n",
    "\n",
    "df2['len_acum'] = df2.len.cumsum()\n",
    "\n",
    "\n",
    "df2.head() # Este df será conocido como df de sálida."
   ]
  },
  {
   "cell_type": "markdown",
   "metadata": {},
   "source": [
    "**¿Cúal es el valor \"grade\" de los 4 compositos de 5 m?**\n",
    "\n",
    "* Hay varias formas distintas de llegar al mismo resultado, esta vez plantare la semilla con algo muy básico:"
   ]
  },
  {
   "cell_type": "code",
   "execution_count": 34,
   "metadata": {},
   "outputs": [
    {
     "data": {
      "text/html": [
       "<div>\n",
       "<style scoped>\n",
       "    .dataframe tbody tr th:only-of-type {\n",
       "        vertical-align: middle;\n",
       "    }\n",
       "\n",
       "    .dataframe tbody tr th {\n",
       "        vertical-align: top;\n",
       "    }\n",
       "\n",
       "    .dataframe thead th {\n",
       "        text-align: right;\n",
       "    }\n",
       "</style>\n",
       "<table border=\"1\" class=\"dataframe\">\n",
       "  <thead>\n",
       "    <tr style=\"text-align: right;\">\n",
       "      <th></th>\n",
       "      <th>dhid</th>\n",
       "      <th>from</th>\n",
       "      <th>to</th>\n",
       "      <th>grade</th>\n",
       "      <th>len</th>\n",
       "      <th>len_acum</th>\n",
       "    </tr>\n",
       "  </thead>\n",
       "  <tbody>\n",
       "    <tr>\n",
       "      <th>0</th>\n",
       "      <td>1</td>\n",
       "      <td>0</td>\n",
       "      <td>1</td>\n",
       "      <td>1</td>\n",
       "      <td>1</td>\n",
       "      <td>1</td>\n",
       "    </tr>\n",
       "    <tr>\n",
       "      <th>1</th>\n",
       "      <td>1</td>\n",
       "      <td>1</td>\n",
       "      <td>3</td>\n",
       "      <td>2</td>\n",
       "      <td>2</td>\n",
       "      <td>3</td>\n",
       "    </tr>\n",
       "    <tr>\n",
       "      <th>2</th>\n",
       "      <td>1</td>\n",
       "      <td>3</td>\n",
       "      <td>8</td>\n",
       "      <td>3</td>\n",
       "      <td>5</td>\n",
       "      <td>8</td>\n",
       "    </tr>\n",
       "    <tr>\n",
       "      <th>3</th>\n",
       "      <td>1</td>\n",
       "      <td>8</td>\n",
       "      <td>15</td>\n",
       "      <td>4</td>\n",
       "      <td>7</td>\n",
       "      <td>15</td>\n",
       "    </tr>\n",
       "    <tr>\n",
       "      <th>4</th>\n",
       "      <td>1</td>\n",
       "      <td>15</td>\n",
       "      <td>20</td>\n",
       "      <td>5</td>\n",
       "      <td>5</td>\n",
       "      <td>20</td>\n",
       "    </tr>\n",
       "  </tbody>\n",
       "</table>\n",
       "</div>"
      ],
      "text/plain": [
       "   dhid  from  to  grade  len  len_acum\n",
       "0     1     0   1      1    1         1\n",
       "1     1     1   3      2    2         3\n",
       "2     1     3   8      3    5         8\n",
       "3     1     8  15      4    7        15\n",
       "4     1    15  20      5    5        20"
      ]
     },
     "execution_count": 34,
     "metadata": {},
     "output_type": "execute_result"
    }
   ],
   "source": [
    "df.head() #5 filas de datos"
   ]
  },
  {
   "cell_type": "code",
   "execution_count": 35,
   "metadata": {},
   "outputs": [
    {
     "data": {
      "text/html": [
       "<div>\n",
       "<style scoped>\n",
       "    .dataframe tbody tr th:only-of-type {\n",
       "        vertical-align: middle;\n",
       "    }\n",
       "\n",
       "    .dataframe tbody tr th {\n",
       "        vertical-align: top;\n",
       "    }\n",
       "\n",
       "    .dataframe thead th {\n",
       "        text-align: right;\n",
       "    }\n",
       "</style>\n",
       "<table border=\"1\" class=\"dataframe\">\n",
       "  <thead>\n",
       "    <tr style=\"text-align: right;\">\n",
       "      <th></th>\n",
       "      <th>dhid</th>\n",
       "      <th>from</th>\n",
       "      <th>to</th>\n",
       "      <th>grade</th>\n",
       "      <th>len</th>\n",
       "      <th>len_acum</th>\n",
       "    </tr>\n",
       "  </thead>\n",
       "  <tbody>\n",
       "    <tr>\n",
       "      <th>0</th>\n",
       "      <td>1</td>\n",
       "      <td>0</td>\n",
       "      <td>5</td>\n",
       "      <td>NaN</td>\n",
       "      <td>5</td>\n",
       "      <td>5</td>\n",
       "    </tr>\n",
       "    <tr>\n",
       "      <th>1</th>\n",
       "      <td>1</td>\n",
       "      <td>5</td>\n",
       "      <td>10</td>\n",
       "      <td>NaN</td>\n",
       "      <td>5</td>\n",
       "      <td>10</td>\n",
       "    </tr>\n",
       "    <tr>\n",
       "      <th>2</th>\n",
       "      <td>1</td>\n",
       "      <td>10</td>\n",
       "      <td>15</td>\n",
       "      <td>NaN</td>\n",
       "      <td>5</td>\n",
       "      <td>15</td>\n",
       "    </tr>\n",
       "    <tr>\n",
       "      <th>3</th>\n",
       "      <td>1</td>\n",
       "      <td>15</td>\n",
       "      <td>20</td>\n",
       "      <td>NaN</td>\n",
       "      <td>5</td>\n",
       "      <td>20</td>\n",
       "    </tr>\n",
       "  </tbody>\n",
       "</table>\n",
       "</div>"
      ],
      "text/plain": [
       "   dhid  from  to  grade  len  len_acum\n",
       "0     1     0   5    NaN    5         5\n",
       "1     1     5  10    NaN    5        10\n",
       "2     1    10  15    NaN    5        15\n",
       "3     1    15  20    NaN    5        20"
      ]
     },
     "execution_count": 35,
     "metadata": {},
     "output_type": "execute_result"
    }
   ],
   "source": [
    "df2.head() # 4 filas de datos"
   ]
  },
  {
   "cell_type": "markdown",
   "metadata": {},
   "source": [
    "**Matriz desarrollo:**"
   ]
  },
  {
   "cell_type": "code",
   "execution_count": 36,
   "metadata": {},
   "outputs": [
    {
     "name": "stdout",
     "output_type": "stream",
     "text": [
      "Ingrese el valor del composito: 5\n",
      "   dhid  from  to  grade  len  len_acum\n",
      "0     1     0   5    2.2    5         5\n",
      "1     1     5  10    3.4    5        10\n",
      "2     1    10  15    4.0    5        15\n",
      "3     1    15  20    5.0    5        20\n"
     ]
    }
   ],
   "source": [
    "df2.len_acum.iloc[-1] # N° de filas del df.\n",
    "\n",
    "d_com = {'dhid': 1, 'from': list(range(0,20,1)), 'to': list(range(1,21,1))} # creando las 3 primeras columnas.\n",
    "\n",
    "df_com = pd.DataFrame(data=d_com) # creando el DataFrame.\n",
    "\n",
    "df_com['len'] = (df_com['to'] - df_com['from']) # creando la columna de longitud de testigos.\n",
    "\n",
    "df_com['len_acum'] = df_com.len.cumsum() # creando la columna longitud acumulada. \n",
    "\n",
    "df_com['grade'] = np.nan # creando la columna de leyes con valor por defecto NaN\n",
    "\n",
    "df_com.at[:, 'grade'] = df.grade.repeat(df['len']).reset_index() # dando valor a la columna de leyes. \n",
    "\n",
    "com = float(input(\"Ingrese el valor del composito: \")) # El input de este ejemplo esta hecho solo para ingresar \"5\" que es la moda.\n",
    "\n",
    "df_com.at[:, 'work'] = ((df_com['grade'] * df_com['len'])/com) # grade * len / len composito\n",
    "\n",
    "# 20/5 = 4 # al compositar a 5 m se crean 4 leyes\n",
    "\n",
    "a = df_com.work[:5].sum(axis=0) # selección de filas x 5 con autosuma\n",
    "b = df_com.work[5:10].sum(axis=0) \n",
    "c = df_com.work[10:15].sum(axis=0) \n",
    "d = df_com.work[15:20].sum(axis=0) \n",
    "\n",
    "leyes = [a,b,c,d]\n",
    "\n",
    "df2['grade'] = leyes # se pasan las leyes a la matriz B\n",
    "    \n",
    "print(df2.head(5))"
   ]
  },
  {
   "cell_type": "markdown",
   "metadata": {},
   "source": [
    "**Al regularizar el tamaño del soporte de la muestra (compositación) la dispersión disminuye:**"
   ]
  },
  {
   "cell_type": "code",
   "execution_count": 40,
   "metadata": {},
   "outputs": [
    {
     "name": "stdout",
     "output_type": "stream",
     "text": [
      "Varianza A:  2.5 Ley media A:  3.0\n"
     ]
    }
   ],
   "source": [
    "print(\"Varianza A: \", df['grade'].var(), \"Ley media A: \", df['grade'].mean())"
   ]
  },
  {
   "cell_type": "code",
   "execution_count": 42,
   "metadata": {},
   "outputs": [
    {
     "name": "stdout",
     "output_type": "stream",
     "text": [
      "Varianza B:  1.37 Ley media B:  3.65\n"
     ]
    }
   ],
   "source": [
    "print(\"Varianza B: \", round(df2['grade'].var(),2), \"Ley media B: \", df2['grade'].mean())"
   ]
  }
 ],
 "metadata": {
  "kernelspec": {
   "display_name": "Python 3",
   "language": "python",
   "name": "python3"
  },
  "language_info": {
   "codemirror_mode": {
    "name": "ipython",
    "version": 3
   },
   "file_extension": ".py",
   "mimetype": "text/x-python",
   "name": "python",
   "nbconvert_exporter": "python",
   "pygments_lexer": "ipython3",
   "version": "3.7.0"
  }
 },
 "nbformat": 4,
 "nbformat_minor": 2
}
